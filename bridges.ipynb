{
 "cells": [
  {
   "cell_type": "code",
   "execution_count": 1,
   "metadata": {},
   "outputs": [],
   "source": [
    "import pandas as pd\n",
    "import math\n",
    "import numpy as np\n",
    "import matplotlib.pyplot as plt\n",
    "# import statsmodels.api as sm\n",
    "import seaborn as sns\n",
    "sns.set()"
   ]
  },
  {
   "cell_type": "markdown",
   "metadata": {},
   "source": [
    "##setup needed objects"
   ]
  },
  {
   "cell_type": "code",
   "execution_count": 2,
   "metadata": {},
   "outputs": [],
   "source": [
    "study_year_begin = 2013\n",
    "indexes = [1, 2, 3, 4, 5]\n",
    "show_index = ('year built is 28/26', 'year of improvement is 97/95', 'year reconstructed is 107/105')\n",
    "ages = list(range(1, 101))\n",
    "count_exits = [[]]\n",
    "exposure_count = [[]]\n",
    "count = 0\n",
    "bridge_data = {}\n",
    "hazard_age_list = [[]]\n"
   ]
  },
  {
   "cell_type": "code",
   "execution_count": 3,
   "metadata": {},
   "outputs": [],
   "source": [
    "bridgeID = [[1,'Alabama'],\n",
    "            [2,'Alaska'],\n",
    "            [4,'Arizona'],\n",
    "            [5,'Arkansas'],\n",
    "            [6,'California'],\n",
    "            [8,'Colorado'],\n",
    "            [9,'Connecticut'],\n",
    "            [10,'Delaware'],\n",
    "            [11,'District of Columbia'],\n",
    "            [12,'Florida'],\n",
    "            [13,'Georgia'],\n",
    "            [15,'Hawaii'],\n",
    "            [16,'Idaho'],\n",
    "            [17,'Illinois'],\n",
    "            [18,'Indiana'],\n",
    "            [19,'Iowa'],\n",
    "            [20,'Kansas'],\n",
    "            [21,'Kentucky'],\n",
    "            [22,'Louisiana'],\n",
    "            [23,'Maine'],\n",
    "            [24,'Maryland'],\n",
    "            [25,'Massachusettes'],\n",
    "            [26,'Michigan'],\n",
    "            [27,'Minnesota'],\n",
    "            [28,'Mississippi'],\n",
    "            [29,'Missiuri'],\n",
    "            [30,'Montana'],\n",
    "            [31,'Nebraska'],\n",
    "            [32,'Nevada'],\n",
    "            [33,'New Hampshire'],\n",
    "            [34,'New Jersey'],\n",
    "            [35,'New Mexico'],\n",
    "            [36,'New York'],\n",
    "            [37,'North Carolina'],\n",
    "            [38,'North Dakota'],\n",
    "            [39,'Ohio'],\n",
    "            [40,'Oklahoma'],\n",
    "            [41,'Oregon'],\n",
    "            [42,'Pennsylvania'],\n",
    "            [44,'Rhode Island'],\n",
    "            [45,'South Carolina'],\n",
    "            [46,'South Dakota'],\n",
    "            [47,'Tennessee'],\n",
    "            [48,'Texas'],\n",
    "            [49,'Utah'],\n",
    "            [50,'Vermont'],\n",
    "            [51,'Virginia'],\n",
    "            [53,'Washington'],\n",
    "            [54,'West Virginia'],\n",
    "            [55,'Wisconsin'],\n",
    "            [56,'Wyoming'],\n",
    "            [72,'Puerto Rico']]"
   ]
  },
  {
   "cell_type": "code",
   "execution_count": 4,
   "metadata": {},
   "outputs": [],
   "source": [
    "def import_data():\n",
    "    \"\"\"\n",
    "    import bridge data and store as dataframe, then convert to list of lists\n",
    "    :return: bridges_list List of Lists\n",
    "    \"\"\"\n",
    "    bridges = pd.read_excel('2017HwyBridgesDelimitedAllStatesMI.xlsx', dtype=str)\n",
    "#     bridges = bridges_all[bridges_all.STATE_CODE_001 == '26']\n",
    "    bridges_list = bridges.values.tolist()\n",
    "    bridges_list2 = [[]]\n",
    "    for inside_list in bridges_list:\n",
    "        inside_list = [item.strip(' ') for item in inside_list]\n",
    "        bridges_list2.append(inside_list)\n",
    "    del bridges_list2[0]\n",
    "    bridge_data[\"data\"] = bridges_list2\n",
    "    # print(bridge_data[\"data\"])\n",
    "    return bridges_list2\n"
   ]
  },
  {
   "cell_type": "code",
   "execution_count": null,
   "metadata": {},
   "outputs": [],
   "source": []
  },
  {
   "cell_type": "code",
   "execution_count": 5,
   "metadata": {},
   "outputs": [],
   "source": [
    "def calc_age(current_study_yr, construction_year, reconstruct_yr):\n",
    "    \"\"\"\n",
    "    by setting the age to 0 in the elif clause, the bridge has effectively been removed from the study\n",
    "    the age can be reset by setting age to (current_study_yr - reconstruct_yr)\n",
    "    :return: the age of the bridge\n",
    "    \"\"\"\n",
    "    if reconstruct_yr >= current_study_yr:\n",
    "        age = current_study_yr - construction_year\n",
    "    elif reconstruct_yr > construction_year:\n",
    "        age = 0\n",
    "    else:\n",
    "        age = current_study_yr - construction_year\n",
    "    return age"
   ]
  },
  {
   "cell_type": "code",
   "execution_count": null,
   "metadata": {},
   "outputs": [],
   "source": []
  },
  {
   "cell_type": "code",
   "execution_count": 6,
   "metadata": {},
   "outputs": [],
   "source": [
    "def calc_ages():\n",
    "    \"\"\"\n",
    "    this function creates the list of bridges and the ages of the bridge in each year of the study\n",
    "    :return: a list of lists containing the raw exposure data\n",
    "    \"\"\"\n",
    "    bridge_data = import_data()\n",
    "    exposure_data = [[]]\n",
    "\n",
    "    for bridge in bridge_data:\n",
    "        inner_list = []\n",
    "        inner_list.append(bridge[1])\n",
    "        inner_list.append(bridge[105])\n",
    "        for index in indexes:\n",
    "            age = calc_age(int(study_year_begin) + index - 1, int(bridge[26]), int(bridge[105]))\n",
    "            inner_list.append(age)\n",
    "        exposure_data.append(inner_list)\n",
    "    return exposure_data\n"
   ]
  },
  {
   "cell_type": "code",
   "execution_count": 7,
   "metadata": {},
   "outputs": [],
   "source": [
    "output = calc_ages()\n",
    "# for item in output:\n",
    "#     print(item)"
   ]
  },
  {
   "cell_type": "code",
   "execution_count": 8,
   "metadata": {},
   "outputs": [
    {
     "data": {
      "text/plain": [
       "'\\ncalculate the total exposure for each age\\n'"
      ]
     },
     "execution_count": 8,
     "metadata": {},
     "output_type": "execute_result"
    }
   ],
   "source": [
    "\"\"\"\n",
    "calculate the total exposure for each age\n",
    "\"\"\""
   ]
  },
  {
   "cell_type": "code",
   "execution_count": 9,
   "metadata": {},
   "outputs": [],
   "source": [
    "for age in ages:\n",
    "    exposures = []\n",
    "    count = 0\n",
    "    exposures.append(age)\n",
    "    for item in output:\n",
    "        for index in item:\n",
    "            if index == age:\n",
    "                count += 1\n",
    "    exposures.append(count)\n",
    "    exposure_count.append(exposures)"
   ]
  },
  {
   "cell_type": "code",
   "execution_count": 10,
   "metadata": {},
   "outputs": [],
   "source": [
    "# print(exposure_count)"
   ]
  },
  {
   "cell_type": "code",
   "execution_count": 11,
   "metadata": {},
   "outputs": [],
   "source": [
    "def exits():\n",
    "    for age in ages:\n",
    "        exits = []\n",
    "        count = 0\n",
    "        exits.append(age)\n",
    "        pos = [3, 4, 5, 6]\n",
    "        for item in output:\n",
    "            if item == []:\n",
    "                continue\n",
    "            else:\n",
    "                for i in pos:\n",
    "                    if item[i] == 0 and item[i - 1] > 0 and item[i - 1] == age - 1:\n",
    "                        count += 1\n",
    "        exits.append(count)\n",
    "        count_exits.append(exits)\n",
    "    # for item in count_exits:\n",
    "    #     print(item)\n",
    "    return count_exits"
   ]
  },
  {
   "cell_type": "code",
   "execution_count": 12,
   "metadata": {},
   "outputs": [],
   "source": [
    "def compute_hx():\n",
    "    \"\"\"\n",
    "    ratio of exits() to calc_ages()\n",
    "    :return: the hazard rate for a bridge at each age\n",
    "    \"\"\"\n",
    "    leave = exits()\n",
    "    exposed = exposure_count\n",
    "    for age in exposed:\n",
    "        if age == []:\n",
    "            continue\n",
    "        temp = [age[0]]\n",
    "        for item in leave:\n",
    "            if item == []:\n",
    "                continue\n",
    "            elif age[0] == item[0]:\n",
    "                if age[1] == 0:\n",
    "                    num = 0\n",
    "                else:\n",
    "                    num = item[1]/age[1]\n",
    "                temp.append(num)\n",
    "        hazard_age_list.append(temp)\n",
    "    return hazard_age_list\n",
    "\n"
   ]
  },
  {
   "cell_type": "code",
   "execution_count": 13,
   "metadata": {},
   "outputs": [],
   "source": [
    "def compute_qx():\n",
    "    hx = compute_hx()\n",
    "    qx = [[]]\n",
    "    for i in hx:\n",
    "        temp = []\n",
    "        if i == []:\n",
    "            continue\n",
    "        temp.append(i[0])\n",
    "        sx = math.exp(-i[1])\n",
    "        pdf = 1 - sx\n",
    "        temp.append(pdf)\n",
    "        qx.append(temp)\n",
    "    return qx"
   ]
  },
  {
   "cell_type": "code",
   "execution_count": null,
   "metadata": {},
   "outputs": [],
   "source": []
  },
  {
   "cell_type": "markdown",
   "metadata": {},
   "source": [
    "def cum_qx():\n",
    "    qx = compute_qx()\n",
    "    cum = [[]]\n",
    "    running = 0\n",
    "    for item in qx:\n",
    "        if item == []:\n",
    "            continue\n",
    "        temp = []\n",
    "        temp.append(item[0])\n",
    "        running += item[1]\n",
    "        temp.append(running)\n",
    "        cum.append(temp)\n",
    "    return cum"
   ]
  },
  {
   "cell_type": "code",
   "execution_count": null,
   "metadata": {},
   "outputs": [],
   "source": []
  },
  {
   "cell_type": "code",
   "execution_count": 14,
   "metadata": {},
   "outputs": [
    {
     "name": "stdout",
     "output_type": "stream",
     "text": [
      "[]\n",
      "[1, 0.0]\n",
      "[2, 0.0]\n",
      "[3, 0.0]\n",
      "[4, 0.0]\n",
      "[5, 0.0]\n",
      "[6, 0.0]\n",
      "[7, 0.0]\n",
      "[8, 0.0]\n",
      "[9, 0.001790509816651964]\n",
      "[10, 0.0]\n",
      "[11, 0.0]\n",
      "[12, 0.0]\n",
      "[13, 0.0]\n",
      "[14, 0.0]\n",
      "[15, 0.0]\n",
      "[16, 0.0]\n",
      "[17, 0.0]\n",
      "[18, 0.0]\n",
      "[19, 0.0]\n",
      "[20, 0.0]\n",
      "[21, 0.0]\n",
      "[22, 0.0015885620167414016]\n",
      "[23, 0.0]\n",
      "[24, 0.0]\n",
      "[25, 0.0]\n",
      "[26, 0.0]\n",
      "[27, 0.0]\n",
      "[28, 0.0014316389822167652]\n",
      "[29, 0.0]\n",
      "[30, 0.0013289034587864457]\n",
      "[31, 0.0013708017043195797]\n",
      "[32, 0.0]\n",
      "[33, 0.0]\n",
      "[34, 0.0014194461774001965]\n",
      "[35, 0.0013917882233328571]\n",
      "[36, 0.005540151995103271]\n",
      "[37, 0.0027137025386271274]\n",
      "[38, 0.0]\n",
      "[39, 0.002758618937817592]\n",
      "[40, 0.0013840828238740333]\n",
      "[41, 0.021182999986892326]\n",
      "[42, 0.006920387509683934]\n",
      "[43, 0.00426438584795108]\n",
      "[44, 0.013543809607516444]\n",
      "[45, 0.01156056413789841]\n",
      "[46, 0.005208321528867632]\n",
      "[47, 0.0014398845602637822]\n",
      "[48, 0.004979242798846872]\n",
      "[49, 0.012194969887035612]\n",
      "[50, 0.0]\n",
      "[51, 0.0037570400307047613]\n",
      "[52, 0.016297657236181595]\n",
      "[53, 0.007427021435438608]\n",
      "[54, 0.003361341367606241]\n",
      "[55, 0.0035566056099618493]\n",
      "[56, 0.008546956293204011]\n",
      "[57, 0.007130094462085346]\n",
      "[58, 0.0046838321663488225]\n",
      "[59, 0.01146119186514527]\n",
      "[60, 0.01022137562696046]\n",
      "[61, 0.016393072460872182]\n",
      "[62, 0.004705873648035652]\n",
      "[63, 0.004866170422787031]\n",
      "[64, 0.005333320657592067]\n",
      "[65, 0.0111730674675794]\n",
      "[66, 0.0]\n",
      "[67, 0.005571016191745937]\n",
      "[68, 0.0]\n",
      "[69, 0.0]\n",
      "[70, 0.0]\n",
      "[71, 0.018348104315340175]\n",
      "[72, 0.0]\n",
      "[73, 0.01092885237064023]\n",
      "[74, 0.008368151798800127]\n",
      "[75, 0.012903045621989184]\n",
      "[76, 0.011235836181338277]\n",
      "[77, 0.0]\n",
      "[78, 0.011110996162083109]\n",
      "[79, 0.0111730674675794]\n",
      "[80, 0.0]\n",
      "[81, 0.0]\n",
      "[82, 0.0]\n",
      "[83, 0.0]\n",
      "[84, 0.011049610706077684]\n",
      "[85, 0.004705873648035652]\n",
      "[86, 0.0]\n",
      "[87, 0.0]\n",
      "[88, 0.0]\n",
      "[89, 0.007220185126271761]\n",
      "[90, 0.009478601680678933]\n",
      "[91, 0.0]\n",
      "[92, 0.012269783764389475]\n",
      "[93, 0.0]\n",
      "[94, 0.014184157647595397]\n",
      "[95, 0.0]\n",
      "[96, 0.0]\n",
      "[97, 0.0]\n",
      "[98, 0.0]\n",
      "[99, 0.0]\n",
      "[100, 0.0]\n"
     ]
    }
   ],
   "source": [
    "see = compute_qx()\n",
    "for item in see:\n",
    "    print(item)"
   ]
  },
  {
   "cell_type": "code",
   "execution_count": 15,
   "metadata": {},
   "outputs": [],
   "source": [
    "del see[0]\n",
    "def compute_probs():\n",
    "    result = [[]]\n",
    "    for i in range(96):\n",
    "        counter = 1\n",
    "        temp = []\n",
    "        temp.append(see[i][0])\n",
    "        temp.append(see[i][1])\n",
    "        Qx2 = 1 - ((1 - see[i][1]) * (1 - see[i + counter][1]))\n",
    "        temp.append(Qx2)\n",
    "        counter += 1\n",
    "        Qx3 = 1 - ((1 - Qx2) * (1 - see[i + counter][1]))\n",
    "        temp.append(Qx3)\n",
    "        counter += 1\n",
    "        Qx4 = 1 - ((1 - Qx3) * (1 - see[i + counter][1]))\n",
    "        temp.append(Qx4)\n",
    "        counter += 1\n",
    "        Qx5 = 1 - ((1 - Qx4) * (1 - see[i + counter][1]))\n",
    "        temp.append(Qx5)\n",
    "        \n",
    "        result.append(temp)\n",
    "    \n",
    "    del result[0]\n",
    "    return result\n",
    "\n"
   ]
  },
  {
   "cell_type": "code",
   "execution_count": 16,
   "metadata": {
    "scrolled": true
   },
   "outputs": [],
   "source": [
    "probabilities = compute_probs()"
   ]
  },
  {
   "cell_type": "code",
   "execution_count": 17,
   "metadata": {},
   "outputs": [
    {
     "name": "stdout",
     "output_type": "stream",
     "text": [
      "[1, 0.0, 0.0, 0.0, 0.0, 0.0]\n",
      "[2, 0.0, 0.0, 0.0, 0.0, 0.0]\n",
      "[3, 0.0, 0.0, 0.0, 0.0, 0.0]\n",
      "[4, 0.0, 0.0, 0.0, 0.0, 0.0]\n",
      "[5, 0.0, 0.0, 0.0, 0.0, 0.001790509816651964]\n",
      "[6, 0.0, 0.0, 0.0, 0.001790509816651964, 0.001790509816651964]\n",
      "[7, 0.0, 0.0, 0.001790509816651964, 0.001790509816651964, 0.001790509816651964]\n",
      "[8, 0.0, 0.001790509816651964, 0.001790509816651964, 0.001790509816651964, 0.001790509816651964]\n",
      "[9, 0.001790509816651964, 0.001790509816651964, 0.001790509816651964, 0.001790509816651964, 0.001790509816651964]\n",
      "[10, 0.0, 0.0, 0.0, 0.0, 0.0]\n",
      "[11, 0.0, 0.0, 0.0, 0.0, 0.0]\n",
      "[12, 0.0, 0.0, 0.0, 0.0, 0.0]\n",
      "[13, 0.0, 0.0, 0.0, 0.0, 0.0]\n",
      "[14, 0.0, 0.0, 0.0, 0.0, 0.0]\n",
      "[15, 0.0, 0.0, 0.0, 0.0, 0.0]\n",
      "[16, 0.0, 0.0, 0.0, 0.0, 0.0]\n",
      "[17, 0.0, 0.0, 0.0, 0.0, 0.0]\n",
      "[18, 0.0, 0.0, 0.0, 0.0, 0.0015885620167414016]\n",
      "[19, 0.0, 0.0, 0.0, 0.0015885620167414016, 0.0015885620167414016]\n",
      "[20, 0.0, 0.0, 0.0015885620167414016, 0.0015885620167414016, 0.0015885620167414016]\n",
      "[21, 0.0, 0.0015885620167414016, 0.0015885620167414016, 0.0015885620167414016, 0.0015885620167414016]\n",
      "[22, 0.0015885620167414016, 0.0015885620167414016, 0.0015885620167414016, 0.0015885620167414016, 0.0015885620167414016]\n",
      "[23, 0.0, 0.0, 0.0, 0.0, 0.0]\n",
      "[24, 0.0, 0.0, 0.0, 0.0, 0.0014316389822167652]\n",
      "[25, 0.0, 0.0, 0.0, 0.0014316389822167652, 0.0014316389822167652]\n",
      "[26, 0.0, 0.0, 0.0014316389822167652, 0.0014316389822167652, 0.002758639931008]\n",
      "[27, 0.0, 0.0014316389822167652, 0.0014316389822167652, 0.002758639931008, 0.0041256600870085425]\n",
      "[28, 0.0014316389822167652, 0.0014316389822167652, 0.002758639931008, 0.0041256600870085425, 0.0041256600870085425]\n",
      "[29, 0.0, 0.0013289034587864457, 0.002697883499979792, 0.002697883499979792, 0.002697883499979792]\n",
      "[30, 0.0013289034587864457, 0.002697883499979792, 0.002697883499979792, 0.002697883499979792, 0.004113500176958884]\n",
      "[31, 0.0013708017043195797, 0.0013708017043195797, 0.0013708017043195797, 0.0027883021024806, 0.004176209599784153]\n",
      "[32, 0.0, 0.0, 0.0014194461774001965, 0.0028092588322596868, 0.008333847106438697]\n",
      "[33, 0.0, 0.0014194461774001965, 0.0028092588322596868, 0.008333847106438697, 0.011024934063016523]\n",
      "[34, 0.0014194461774001965, 0.0028092588322596868, 0.008333847106438697, 0.011024934063016523, 0.011024934063016523]\n",
      "[35, 0.0013917882233328571, 0.006924229500133827, 0.009619141739588444, 0.009619141739588444, 0.01235122513083764]\n",
      "[36, 0.005540151995103271, 0.008238820209196862, 0.008238820209196862, 0.010974711381560143, 0.012343604295913968]\n",
      "[37, 0.0027137025386271274, 0.0027137025386271274, 0.005464835405230017, 0.006841354444284353, 0.02787943402007309]\n",
      "[38, 0.0, 0.002758618937817592, 0.004138883604602128, 0.025234209620152437, 0.0319799666207643]\n",
      "[39, 0.002758618937817592, 0.004138883604602128, 0.025234209620152437, 0.0319799666207643, 0.03610797755163986]\n",
      "[40, 0.0013840828238740333, 0.02253776378432637, 0.02930218123502104, 0.03344161127599943, 0.04653249406742521]\n",
      "[41, 0.021182999986892326, 0.027956792928049312, 0.032101960223883896, 0.04521098699409998, 0.05624888661711536]\n",
      "[42, 0.006920387509683934, 0.01115526215507634, 0.024547987015842487, 0.035824762575387914, 0.04084649722206757]\n",
      "[43, 0.00426438584795108, 0.01775043942544985, 0.029105798469894473, 0.03416252764197647, 0.035553222106148974]\n",
      "[44, 0.013543809607516444, 0.02494779966577565, 0.03002618503254617, 0.03142283535257795, 0.03624561622477618]\n",
      "[45, 0.01156056413789841, 0.01670867453168079, 0.018124500529463905, 0.023013497039566788, 0.034927818023209545]\n",
      "[46, 0.005208321528867632, 0.006640706707377153, 0.011586883815172033, 0.023640552002997084, 0.023640552002997084]\n",
      "[47, 0.0014398845602637822, 0.006411957824282832, 0.018528734078734344, 0.018528734078734344, 0.022216160913786975]\n",
      "[48, 0.004979242798846872, 0.017113490969890344, 0.017113490969890344, 0.020806234929956147, 0.03676479928087384]\n",
      "[49, 0.012194969887035612, 0.012194969887035612, 0.015906192927701568, 0.03194461648361491, 0.03913438456768281]\n",
      "[50, 0.0, 0.0037570400307047613, 0.019993466316243325, 0.027271995848782482, 0.030541666728565064]\n",
      "[51, 0.0037570400307047613, 0.019993466316243325, 0.027271995848782482, 0.030541666728565064, 0.03398964767530255]\n",
      "[52, 0.016297657236181595, 0.023603635621979646, 0.026885637112743832, 0.030346621114923145, 0.038634206163811524]\n",
      "[53, 0.007427021435438608, 0.010763398048655781, 0.014281722496735538, 0.022706613531968234, 0.02967480769465658]\n",
      "[54, 0.003361341367606241, 0.006905992012003037, 0.015393923093319217, 0.02241425742960712, 0.026993104976022364]\n",
      "[55, 0.0035566056099618493, 0.012073163750465299, 0.0191171754145536, 0.02371146593976603, 0.03490089614437175]\n",
      "[56, 0.008546956293204011, 0.015616110149555551, 0.020226799076872637, 0.03145616771698012, 0.04135601803792066]\n",
      "[57, 0.007130094462085346, 0.011780530462643601, 0.023106703407883344, 0.033091896739811055, 0.04894249133955986]\n",
      "[58, 0.0046838321663488225, 0.016091341732371478, 0.026148241711143605, 0.04211266415092063, 0.0466203609224799]\n",
      "[59, 0.01146119186514527, 0.02156541834491943, 0.037604967340214346, 0.04213387676340841, 0.046795016561292035]\n",
      "[60, 0.01022137562696046, 0.026446888336530083, 0.031028306269670347, 0.03574348766621871, 0.040886176842666155]\n",
      "[61, 0.016393072460872182, 0.02102180238120388, 0.025785677131009876, 0.030981474504089168, 0.04180838386678931]\n",
      "[62, 0.004705873648035652, 0.009549144487663197, 0.014831536495696906, 0.02583889020536201, 0.02583889020536201]\n",
      "[63, 0.004866170422787031, 0.010173538233139934, 0.02123293607165644, 0.02123293607165644, 0.026685663232748902]\n",
      "[64, 0.005333320657592067, 0.016446798573637955, 0.016446798573637955, 0.021926189384227746, 0.021926189384227746]\n",
      "[65, 0.0111730674675794, 0.0111730674675794, 0.016681838319551945, 0.016681838319551945, 0.016681838319551945]\n",
      "[66, 0.0, 0.005571016191745937, 0.005571016191745937, 0.005571016191745937, 0.005571016191745937]\n",
      "[67, 0.005571016191745937, 0.005571016191745937, 0.005571016191745937, 0.005571016191745937, 0.023816902920857475]\n",
      "[68, 0.0, 0.0, 0.0, 0.018348104315340175, 0.018348104315340175]\n",
      "[69, 0.0, 0.0, 0.018348104315340175, 0.018348104315340175, 0.029076432962636956]\n",
      "[70, 0.0, 0.018348104315340175, 0.018348104315340175, 0.029076432962636956, 0.037201268756638095]\n",
      "[71, 0.018348104315340175, 0.018348104315340175, 0.029076432962636956, 0.037201268756638095, 0.04962430471066448]\n",
      "[72, 0.0, 0.01092885237064023, 0.019205549873816175, 0.031860785409588144, 0.042738639025455494]\n",
      "[73, 0.01092885237064023, 0.019205549873816175, 0.031860785409588144, 0.042738639025455494, 0.042738639025455494]\n",
      "[74, 0.008368151798800127, 0.021163222776357626, 0.032161272453511636, 0.032161272453511636, 0.042914924840796065]\n",
      "[75, 0.012903045621989184, 0.02399390529647849, 0.02399390529647849, 0.034838305268899084, 0.04562212200125293]\n",
      "[76, 0.011235836181338277, 0.011235836181338277, 0.022221991010732745, 0.03314677067348526, 0.03314677067348526]\n",
      "[77, 0.0, 0.011110996162083109, 0.02215991971991149, 0.02215991971991149, 0.02215991971991149]\n",
      "[78, 0.011110996162083109, 0.02215991971991149, 0.02215991971991149, 0.02215991971991149, 0.02215991971991149]\n",
      "[79, 0.0111730674675794, 0.0111730674675794, 0.0111730674675794, 0.0111730674675794, 0.0111730674675794]\n",
      "[80, 0.0, 0.0, 0.0, 0.0, 0.011049610706077684]\n",
      "[81, 0.0, 0.0, 0.0, 0.011049610706077684, 0.015703486282270585]\n",
      "[82, 0.0, 0.0, 0.011049610706077684, 0.015703486282270585, 0.015703486282270585]\n",
      "[83, 0.0, 0.011049610706077684, 0.015703486282270585, 0.015703486282270585, 0.015703486282270585]\n",
      "[84, 0.011049610706077684, 0.015703486282270585, 0.015703486282270585, 0.015703486282270585, 0.015703486282270585]\n",
      "[85, 0.004705873648035652, 0.004705873648035652, 0.004705873648035652, 0.004705873648035652, 0.011892081495387785]\n",
      "[86, 0.0, 0.0, 0.0, 0.007220185126271761, 0.01663034954807796]\n",
      "[87, 0.0, 0.0, 0.007220185126271761, 0.01663034954807796, 0.01663034954807796]\n",
      "[88, 0.0, 0.007220185126271761, 0.01663034954807796, 0.01663034954807796, 0.02869608251958633]\n",
      "[89, 0.007220185126271761, 0.01663034954807796, 0.01663034954807796, 0.02869608251958633, 0.02869608251958633]\n",
      "[90, 0.009478601680678933, 0.009478601680678933, 0.021632085052057715, 0.021632085052057715, 0.03550940979502848]\n",
      "[91, 0.0, 0.012269783764389475, 0.012269783764389475, 0.026279904864768833, 0.026279904864768833]\n",
      "[92, 0.012269783764389475, 0.012269783764389475, 0.026279904864768833, 0.026279904864768833, 0.026279904864768833]\n",
      "[93, 0.0, 0.014184157647595397, 0.014184157647595397, 0.014184157647595397, 0.014184157647595397]\n",
      "[94, 0.014184157647595397, 0.014184157647595397, 0.014184157647595397, 0.014184157647595397, 0.014184157647595397]\n",
      "[95, 0.0, 0.0, 0.0, 0.0, 0.0]\n",
      "[96, 0.0, 0.0, 0.0, 0.0, 0.0]\n"
     ]
    }
   ],
   "source": [
    "for item in probabilities:\n",
    "    print(item)"
   ]
  },
  {
   "cell_type": "code",
   "execution_count": 18,
   "metadata": {},
   "outputs": [],
   "source": [
    "import csv\n",
    "\n",
    "# with open('probabilitiesall.csv', mode='w') as probs:\n",
    "#     probs_writer = csv.writer(probs, delimiter=',')\n",
    "#     for item in probabilities:\n",
    "#         probs_writer.writerow(item)\n",
    "\n",
    "headers = ['Age', '1yr Prob', '2yr Prob', '3yr Prob', '4yr Prob', '5yr Prob']\n",
    "output = pd.DataFrame(probabilities)\n",
    "\n",
    "output.to_csv('probabilities/probabilitiesMI.csv', index=False, header=headers)\n"
   ]
  },
  {
   "cell_type": "code",
   "execution_count": 19,
   "metadata": {
    "scrolled": false
   },
   "outputs": [
    {
     "data": {
      "image/png": "[encoded data removed]",
      "text/plain": [
       "<Figure size 2520x720 with 2 Axes>"
      ]
     },
     "metadata": {
      "needs_background": "light"
     },
     "output_type": "display_data"
    }
   ],
   "source": [
    "from mpl_toolkits import mplot3d\n",
    "\n",
    "# data_array = np.array(probabilities)\n",
    "\n",
    "df = pd.DataFrame(probabilities)\n",
    "df.set_index(0, inplace = True)\n",
    "dft= df.T\n",
    "dft.sort_index(ascending=False, inplace = True)\n",
    "plt.figure(figsize=(35,10))\n",
    "sns.heatmap(dft, vmin=0.0, vmax=0.1, cmap='brg')\n",
    "# sns.heatmap(dft, vmin=0.0, vmax=0.1)\n",
    "#plt.figure(figsize=(100,10))\n",
    "#sns.heatmap(dft, annot=True)  \n",
    "plt.show()"
   ]
  },
  {
   "cell_type": "code",
   "execution_count": null,
   "metadata": {},
   "outputs": [],
   "source": []
  },
  {
   "cell_type": "code",
   "execution_count": null,
   "metadata": {},
   "outputs": [],
   "source": []
  },
  {
   "cell_type": "code",
   "execution_count": null,
   "metadata": {},
   "outputs": [],
   "source": []
  },
  {
   "cell_type": "code",
   "execution_count": null,
   "metadata": {},
   "outputs": [],
   "source": []
  },
  {
   "cell_type": "code",
   "execution_count": null,
   "metadata": {},
   "outputs": [],
   "source": []
  },
  {
   "cell_type": "code",
   "execution_count": null,
   "metadata": {},
   "outputs": [],
   "source": []
  },
  {
   "cell_type": "code",
   "execution_count": null,
   "metadata": {},
   "outputs": [],
   "source": []
  }
 ],
 "metadata": {
  "kernelspec": {
   "display_name": "Python 3",
   "language": "python",
   "name": "python3"
  },
  "language_info": {
   "codemirror_mode": {
    "name": "ipython",
    "version": 3
   },
   "file_extension": ".py",
   "mimetype": "text/x-python",
   "name": "python",
   "nbconvert_exporter": "python",
   "pygments_lexer": "ipython3",
   "version": "3.7.3"
  }
 },
 "nbformat": 4,
 "nbformat_minor": 2
}
